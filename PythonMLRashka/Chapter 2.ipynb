{
 "cells": [
  {
   "cell_type": "code",
   "execution_count": 45,
   "metadata": {
    "collapsed": false
   },
   "outputs": [
    {
     "name": "stdout",
     "output_type": "stream",
     "text": [
      "Overwriting perceptron.py\n"
     ]
    }
   ],
   "source": [
    "%%writefile perceptron.py\n",
    "# Perceptron\n",
    "\n",
    "# z = w'x with w0 = -theta and x0 = 1\n",
    "# z = net input, w = weight vector, x = input values\n",
    "\n",
    "# phi(z) = Heaviside step function of theta\n",
    "# phi(z) = threshold "
   ]
  },
  {
   "cell_type": "code",
   "execution_count": 46,
   "metadata": {
    "collapsed": false
   },
   "outputs": [
    {
     "name": "stdout",
     "output_type": "stream",
     "text": [
      "Appending to perceptron.py\n"
     ]
    }
   ],
   "source": [
    "%%writefile -a perceptron.py\n",
    "## Learning Rule:\n",
    "#  delta w_j = eta(y_true - y_pred) x_j\n",
    "\n",
    "# w_j = w_j + delta w_j\n",
    "\n",
    "#  w_j = jth weight, eta = learning rate (0.0, 1.0), \n",
    "#  y_true = data, y_pred = output"
   ]
  },
  {
   "cell_type": "code",
   "execution_count": 47,
   "metadata": {
    "collapsed": false
   },
   "outputs": [
    {
     "name": "stdout",
     "output_type": "stream",
     "text": [
      "Appending to perceptron.py\n"
     ]
    }
   ],
   "source": [
    "%%writefile -a perceptron.py\n",
    "# Perceptron Implementation\n",
    "import numpy as np\n",
    "\n",
    "class Perceptron(object):\n",
    "    '''\n",
    "    Perceptron classifier\n",
    "    Parameters:\n",
    "       eta   : float (learning rate)\n",
    "       n_iter:   int (passes over the training data set)\n",
    "    Attributes:\n",
    "       w_     : 1d-array (weights after fitting)\n",
    "       errors_:     list (number of misclassification in every epoch)\n",
    "    '''\n",
    "    \n",
    "    def __init__(self, eta=0.01, n_iter=10):\n",
    "        self.eta = eta\n",
    "        self.n_iter = n_iter\n",
    "        \n",
    "    def fit(self, X, y):\n",
    "        '''\n",
    "        Input:\n",
    "           X: shape = [no_samples, no_features]\n",
    "              training vector\n",
    "           y: shape = [n_samples]\n",
    "              target values\n",
    "        Returns:\n",
    "           self: object\n",
    "        \n",
    "        '''\n",
    "        self.w_ = np.zeros(1 + X.shape[1])\n",
    "        self.errors_ = []\n",
    "        \n",
    "        for _ in range(self.n_iter):\n",
    "            errors = 0\n",
    "            \n",
    "            for xi, target in zip(X,y):\n",
    "                update = self.eta * (target - self.predict(xi))\n",
    "                self.w_[1:] += update * xi\n",
    "                self.w_[0 ] += update\n",
    "                errors += int(update != 0.0)\n",
    "            self.errors_.append(errors)\n",
    "            \n",
    "        return self\n",
    "    \n",
    "    def net_input(self, X):\n",
    "        '''Calculate net input'''\n",
    "        return np.dot(X, self.w_[1:]) + self.w_[0]\n",
    "    \n",
    "    def predict(self, X):\n",
    "        '''Returns class label after unit step'''\n",
    "        return np.where(self.net_input(X) >= 0.0, 1, -1)\n",
    "       \n",
    "    \n",
    "    \n",
    "    \n",
    "    \n",
    "    "
   ]
  },
  {
   "cell_type": "code",
   "execution_count": 48,
   "metadata": {
    "collapsed": false
   },
   "outputs": [
    {
     "name": "stdout",
     "output_type": "stream",
     "text": [
      "Overwriting iris_test.py\n"
     ]
    }
   ],
   "source": [
    "%%writefile iris_test.py\n",
    "import pandas as pd\n",
    "import matplotlib.pyplot as plt\n",
    "import numpy as np\n",
    "\n",
    "# Import Data\n",
    "df = pd.read_csv('https://archive.ics.uci.edu/ml/'\n",
    "                 'machine-learning-databases/iris/iris.data', header=None)\n",
    "\n"
   ]
  },
  {
   "cell_type": "code",
   "execution_count": 49,
   "metadata": {
    "collapsed": false
   },
   "outputs": [
    {
     "name": "stdout",
     "output_type": "stream",
     "text": [
      "Appending to iris_test.py\n"
     ]
    }
   ],
   "source": [
    "%%writefile -a iris_test.py\n",
    "print df.tail()\n",
    "print df.count()\n",
    "y = df.iloc[0:100, 4].values\n",
    "\n",
    "\n",
    "\n",
    "\n",
    "\n",
    "\n",
    "p = Perceptron()"
   ]
  },
  {
   "cell_type": "code",
   "execution_count": null,
   "metadata": {
    "collapsed": true
   },
   "outputs": [],
   "source": []
  }
 ],
 "metadata": {
  "kernelspec": {
   "display_name": "Python 2",
   "language": "python",
   "name": "python2"
  },
  "language_info": {
   "codemirror_mode": {
    "name": "ipython",
    "version": 2
   },
   "file_extension": ".py",
   "mimetype": "text/x-python",
   "name": "python",
   "nbconvert_exporter": "python",
   "pygments_lexer": "ipython2",
   "version": "2.7.11"
  }
 },
 "nbformat": 4,
 "nbformat_minor": 0
}
