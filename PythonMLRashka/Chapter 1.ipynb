{
 "cells": [
  {
   "cell_type": "code",
   "execution_count": 12,
   "metadata": {
    "collapsed": false
   },
   "outputs": [
    {
     "name": "stdout",
     "output_type": "stream",
     "text": [
      "Machine Learning Classification\n",
      "\n",
      "\n",
      "* Reinforcement Learning\n",
      "\n",
      "* Supervised Learning\n",
      "\n",
      "      --> Classification\n",
      "\n",
      "      --> Regression\n",
      "\n",
      "* Unsupervised Learning\n",
      "\n",
      "      --> Clustering (unsupervised classifcation)\n",
      "\n",
      "      --> Dimensionality reduction\n",
      "\n"
     ]
    }
   ],
   "source": [
    "print 'Machine Learning Classification\\n\\n'\n",
    "print '* Reinforcement Learning\\n'\n",
    "print '* Supervised Learning\\n'\n",
    "print '      --> Classification\\n'\n",
    "print '      --> Regression\\n'\n",
    "print '* Unsupervised Learning\\n'\n",
    "print '      --> Clustering (unsupervised classifcation)\\n'\n",
    "print '      --> Dimensionality reduction\\n'\n"
   ]
  },
  {
   "cell_type": "code",
   "execution_count": null,
   "metadata": {
    "collapsed": true
   },
   "outputs": [],
   "source": []
  }
 ],
 "metadata": {
  "kernelspec": {
   "display_name": "Python 2",
   "language": "python",
   "name": "python2"
  },
  "language_info": {
   "codemirror_mode": {
    "name": "ipython",
    "version": 2
   },
   "file_extension": ".py",
   "mimetype": "text/x-python",
   "name": "python",
   "nbconvert_exporter": "python",
   "pygments_lexer": "ipython2",
   "version": "2.7.10"
  }
 },
 "nbformat": 4,
 "nbformat_minor": 0
}
